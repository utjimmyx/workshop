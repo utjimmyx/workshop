{
  "nbformat": 4,
  "nbformat_minor": 0,
  "metadata": {
    "colab": {
      "provenance": []
    },
    "kernelspec": {
      "name": "python3",
      "display_name": "Python 3"
    },
    "language_info": {
      "name": "python"
    }
  },
  "cells": [
    {
      "cell_type": "markdown",
      "source": [
        "**BOOT CAMP FINAL DAY - PYTHON**"
      ],
      "metadata": {
        "id": "k6KPdo_5UG9e"
      }
    },
    {
      "cell_type": "markdown",
      "source": [
        "**What is Google Colab?**\n",
        "\n",
        "Links:https://colab.research.google.com"
      ],
      "metadata": {
        "id": "_JmNXp5sU4DE"
      }
    },
    {
      "cell_type": "markdown",
      "source": [],
      "metadata": {
        "id": "55grksD1WGtn"
      }
    },
    {
      "cell_type": "markdown",
      "source": [
        "**What** **is Python?**\n",
        "\n",
        "Link: https://www.python.org/"
      ],
      "metadata": {
        "id": "KE6mV2DFVGTV"
      }
    },
    {
      "cell_type": "markdown",
      "source": [],
      "metadata": {
        "id": "3AWVsU93WGCM"
      }
    },
    {
      "cell_type": "markdown",
      "source": [
        "**What is Pandas?**\n",
        "\n",
        "Link: https://pandas.pydata.org/"
      ],
      "metadata": {
        "id": "sjKSyvqfVhFE"
      }
    },
    {
      "cell_type": "markdown",
      "source": [],
      "metadata": {
        "id": "outcBeZCWEIc"
      }
    },
    {
      "cell_type": "markdown",
      "source": [
        "**What is Numpy?**\n",
        "\n",
        "Link: https://numpy.org/"
      ],
      "metadata": {
        "id": "AM-C54R3WFMa"
      }
    },
    {
      "cell_type": "markdown",
      "source": [],
      "metadata": {
        "id": "iD4wqsg8WDIb"
      }
    },
    {
      "cell_type": "markdown",
      "source": [
        "**What is Matplotlib?**\n",
        "\n",
        "Link: https://matplotlib.org/"
      ],
      "metadata": {
        "id": "5D-06h2BWccn"
      }
    },
    {
      "cell_type": "markdown",
      "source": [],
      "metadata": {
        "id": "k_JL_YryWwAE"
      }
    },
    {
      "cell_type": "markdown",
      "source": [
        "**What is a DataFrame?**"
      ],
      "metadata": {
        "id": "h_emADUyd8Bh"
      }
    },
    {
      "cell_type": "markdown",
      "source": [],
      "metadata": {
        "id": "AdLLVFMveCXV"
      }
    },
    {
      "cell_type": "markdown",
      "source": [
        "**CLASS EXERCISE 2**"
      ],
      "metadata": {
        "id": "AWfXQ959XG-7"
      }
    },
    {
      "cell_type": "markdown",
      "source": [
        "**Import** **Packages and libraries**"
      ],
      "metadata": {
        "id": "60K0bYRHXQb_"
      }
    },
    {
      "cell_type": "code",
      "source": [
        "import pandas as pd\n",
        "import numpy as np\n",
        "import matplotlib.pyplot as plt"
      ],
      "metadata": {
        "id": "nN4fz9ElURFh"
      },
      "execution_count": null,
      "outputs": []
    },
    {
      "cell_type": "markdown",
      "source": [
        "## Data Types"
      ],
      "metadata": {
        "id": "BgqhOrzuUCUB"
      }
    },
    {
      "cell_type": "markdown",
      "source": [
        "### Int, Float, String"
      ],
      "metadata": {
        "id": "ylxACGMbXk22"
      }
    },
    {
      "cell_type": "markdown",
      "source": [
        "#### Integer"
      ],
      "metadata": {
        "id": "H1HbOm4eX0zV"
      }
    },
    {
      "cell_type": "code",
      "source": [
        "a = 150"
      ],
      "metadata": {
        "id": "TBf00lZgXpG8"
      },
      "execution_count": null,
      "outputs": []
    },
    {
      "cell_type": "code",
      "source": [
        "print(a)"
      ],
      "metadata": {
        "id": "n3oqwoT_YZZR"
      },
      "execution_count": null,
      "outputs": []
    },
    {
      "cell_type": "code",
      "source": [
        "type(a)"
      ],
      "metadata": {
        "id": "jEJGzVPCZskN"
      },
      "execution_count": null,
      "outputs": []
    },
    {
      "cell_type": "code",
      "source": [
        "a, b = 15, 15\n",
        "\n",
        "a = 15\n",
        "b = 15"
      ],
      "metadata": {
        "id": "jcsiby4XZu0k"
      },
      "execution_count": null,
      "outputs": []
    },
    {
      "cell_type": "code",
      "source": [
        "c = a + b\n",
        "print('a + b =', c)"
      ],
      "metadata": {
        "id": "NTFN29ZkaUWb"
      },
      "execution_count": null,
      "outputs": []
    },
    {
      "cell_type": "markdown",
      "source": [
        "### Float"
      ],
      "metadata": {
        "id": "SlcnTUQ2aehC"
      }
    },
    {
      "cell_type": "code",
      "source": [
        "# Create variable float\n",
        "float2 = 2/3"
      ],
      "metadata": {
        "id": "AwVuSxNuahpe"
      },
      "execution_count": null,
      "outputs": []
    },
    {
      "cell_type": "code",
      "source": [
        "# Use type function to examine variable type\n",
        "type(float2)"
      ],
      "metadata": {
        "id": "deC2sHMUalNu"
      },
      "execution_count": null,
      "outputs": []
    },
    {
      "cell_type": "code",
      "source": [
        "# Print variable\n",
        "print(float2)"
      ],
      "metadata": {
        "id": "044kv9soandy"
      },
      "execution_count": null,
      "outputs": []
    },
    {
      "cell_type": "markdown",
      "source": [
        "### String"
      ],
      "metadata": {
        "id": "jycnx71wbHux"
      }
    },
    {
      "cell_type": "code",
      "source": [
        "# Create string variable name\n",
        "name = \"Hello, my name is Simran\""
      ],
      "metadata": {
        "id": "K184BYPXbMfi"
      },
      "execution_count": null,
      "outputs": []
    },
    {
      "cell_type": "code",
      "source": [
        "# Use type function to examine variable type\n",
        "type(name)"
      ],
      "metadata": {
        "id": "37EMe0nYbktq"
      },
      "execution_count": null,
      "outputs": []
    },
    {
      "cell_type": "code",
      "source": [
        "# Print variable\n",
        "print(name)"
      ],
      "metadata": {
        "id": "Y_admPhwbokM"
      },
      "execution_count": null,
      "outputs": []
    },
    {
      "cell_type": "markdown",
      "source": [
        "**CLASS EXERCISE**\n",
        "\n"
      ],
      "metadata": {
        "id": "CA_viyT9eXfN"
      }
    },
    {
      "cell_type": "code",
      "source": [
        "# Import necessary libraries\n",
        "import pandas as pd\n",
        "import matplotlib.pyplot as plt\n",
        "\n",
        "# Step 1: Create a small dataset\n",
        "data = {\n",
        "    'Year': [2020, 2021, 2022, 2023],\n",
        "    'Production': [300, 450, 500, 550]  # Units can be in tons, lbs, etc.\n",
        "}\n",
        "\n",
        "# Step 2: Convert data to a DataFrame\n",
        "df = pd.DataFrame(data)\n",
        "\n",
        "# Step 3: Plot the data as a line chart\n",
        "plt.figure(figsize=(16, 8))  # Set figure size\n",
        "plt.plot(df['Year'], df['Production'], marker='o', linestyle='-', color='green')\n",
        "\n",
        "# Step 4: Add chart title and labels\n",
        "plt.title('Crop Production Over Years', fontsize= 18, fontweight='bold')\n",
        "plt.xlabel('Year',fontsize= 14, fontweight='bold')\n",
        "plt.ylabel('Production (in units)',fontsize= 14, fontweight='bold')\n",
        "\n",
        "#gridlines\n",
        "plt.grid(False)\n",
        "\n",
        "#Set x-axis ticks to be only whole numbers\n",
        "plt.xticks(df['Year'])\n",
        "\n",
        "\n",
        "# Step 5: Show the chart/Plot\n",
        "plt.show()\n"
      ],
      "metadata": {
        "id": "MBYnXJUIe13Z"
      },
      "execution_count": null,
      "outputs": []
    }
  ]
}